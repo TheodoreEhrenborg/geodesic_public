{
 "cells": [
  {
   "cell_type": "markdown",
   "metadata": {},
   "source": [
    "I noticed that the surfaces look somewhat similar. Here's the surface for an intersection angle of $0.162\\tau$:\n",
    "![image](dot162_on_Aug_15.png)"
   ]
  },
  {
   "cell_type": "markdown",
   "metadata": {},
   "source": [
    "For an intersection angle of $0.1\\tau$, the surface has been stretched a bit:\n",
    "![image](dot100_Aug_15.png)"
   ]
  },
  {
   "cell_type": "markdown",
   "metadata": {},
   "source": [
    "Thus it's not surprising that the surface for $0.05\\tau$ has been stretched more:\n",
    "![image](dot005_poly_Aug_15.png)\n",
    "\n",
    "(Ignore the part at the top where the surface opens up, since all the intersection angles are below that.)"
   ]
  },
  {
   "cell_type": "markdown",
   "metadata": {},
   "source": [
    "All of the generating functions are quintic polynomials. Ideally, the polynomials are just approximations to 3 members of a class of functions with a stretchiness parameter."
   ]
  },
  {
   "cell_type": "markdown",
   "metadata": {},
   "source": [
    "And maybe polynomials are not the best approximations? The computer really wanted to have a large slope at the bottom of the above surface. (A large slope looks horizontal because the generating function is a function of $z$.) So I gave it the option of adding a rational function, and it came up with this surface:\n",
    "![image](dot_005_ratl_Aug_15.png)"
   ]
  },
  {
   "cell_type": "markdown",
   "metadata": {},
   "source": [
    "Note that the edges of this cone are not sharp, as you can see on this plot of the generating function:\n",
    "![image](dot005_ratl_2d_Aug_15.png)"
   ]
  },
  {
   "cell_type": "code",
   "execution_count": null,
   "metadata": {},
   "outputs": [],
   "source": []
  }
 ],
 "metadata": {
  "kernelspec": {
   "display_name": "SageMath 9.2",
   "language": "sage",
   "name": "sagemath"
  },
  "language_info": {
   "codemirror_mode": {
    "name": "ipython",
    "version": 3
   },
   "file_extension": ".py",
   "mimetype": "text/x-python",
   "name": "python",
   "nbconvert_exporter": "python",
   "pygments_lexer": "ipython3",
   "version": "3.9.0"
  }
 },
 "nbformat": 4,
 "nbformat_minor": 4
}
